{
 "cells": [
  {
   "cell_type": "code",
   "execution_count": null,
   "metadata": {},
   "outputs": [],
   "source": [
    "import SimpleITK as sitk\n",
    "from pathlib import Path"
   ]
  },
  {
   "cell_type": "code",
   "execution_count": null,
   "metadata": {},
   "outputs": [],
   "source": [
    "# Directory that holds the fixed image.  Copy paste the windows file path inbetween the parenthesis.  E.g., r'C:\\users\\alex'\n",
    "fixed_dir = Path(r'')\n",
    "fixed_path = Path(fixed_dir, 'Fixed image name.tif')\n",
    "\n",
    "moving_dir = Path(r'')\n",
    "moving_path = Path(moving_dir, 'Moving image name.tif')\n",
    "\n",
    "output_dir = Path(r'')\n",
    "output_path = Path(output_dir, 'Output image name.tif')"
   ]
  },
  {
   "cell_type": "code",
   "execution_count": null,
   "metadata": {},
   "outputs": [],
   "source": [
    "# You need to manually set the image pixel spacing in microns to get a good registration.  2 numbers for 2D images, 3 for 3D\n",
    "fixed_spacing = [1, 1]\n",
    "moving_spacing = [1, 1]"
   ]
  },
  {
   "cell_type": "code",
   "execution_count": null,
   "metadata": {},
   "outputs": [],
   "source": [
    "# This gives you a rigid 2D transform\n",
    "initial_transform = sitk.Euler2DTransform()\n",
    "\n",
    "# if you need to do 3D, use this for rigid 3d.\n",
    "# initial_transform = sitk.VersorRigid3DTransform()"
   ]
  },
  {
   "cell_type": "code",
   "execution_count": null,
   "metadata": {},
   "outputs": [],
   "source": [
    "# Read in the fixed image\n",
    "fixed_image = sitk.ReadImage(str(fixed_path))\n",
    "fixed_image.SetSpacing(fixed_spacing)"
   ]
  },
  {
   "cell_type": "code",
   "execution_count": null,
   "metadata": {},
   "outputs": [],
   "source": [
    "# Read in the moving image\n",
    "moving_image = sitk.ReadImage(str(moving_path))\n",
    "moving_image.SetSpacing(moving_spacing)"
   ]
  },
  {
   "cell_type": "code",
   "execution_count": null,
   "metadata": {},
   "outputs": [],
   "source": [
    "# Define how the registration works in the background.  \n",
    "registration_method = sitk.ImageRegistrationMethod()\n",
    "\n",
    "registration_method.SetMetricAsMattesMutualInformation()\n",
    "registration_method.SetMetricSamplingStrategy(registration_method.RANDOM)\n",
    "registration_method.SetMetricSamplingPercentage(1)\n",
    "\n",
    "registration_method.SetInterpolator(sitk.sitkLinear)\n",
    "registration_method.SetOptimizerAsGradientDescent(learningRate=1.0, numberOfIterations=100, \n",
    "                                                  convergenceMinimumValue=1e-6, convergenceWindowSize=10)"
   ]
  },
  {
   "cell_type": "code",
   "execution_count": null,
   "metadata": {},
   "outputs": [],
   "source": [
    "# Run the registration to calculate a transform\n",
    "final_transform = registration_method.Execute(sitk.Cast(fixed_image, sitk.sitkFloat32),\n",
    "                                              sitk.Cast(moving_image, sitk.sitkFloat32))"
   ]
  },
  {
   "cell_type": "code",
   "execution_count": null,
   "metadata": {},
   "outputs": [],
   "source": [
    "# Resample the moving image to the registered result\n",
    "registered_image = sitk.Resample(moving_image, fixed_image, final_transform, sitk.sitkLinear, 0.0, moving_image.GetPixelID())"
   ]
  },
  {
   "cell_type": "code",
   "execution_count": null,
   "metadata": {},
   "outputs": [],
   "source": [
    "#Save the final image.\n",
    "sitk.WriteImage(registered_image, str(output_path))"
   ]
  }
 ],
 "metadata": {
  "kernelspec": {
   "display_name": "Python 3",
   "language": "python",
   "name": "python3"
  },
  "language_info": {
   "codemirror_mode": {
    "name": "ipython",
    "version": 3
   },
   "file_extension": ".py",
   "mimetype": "text/x-python",
   "name": "python",
   "nbconvert_exporter": "python",
   "pygments_lexer": "ipython3",
   "version": "3.6.6"
  }
 },
 "nbformat": 4,
 "nbformat_minor": 2
}
